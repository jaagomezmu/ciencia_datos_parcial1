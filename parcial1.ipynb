{
 "cells": [
  {
   "cell_type": "markdown",
   "id": "ba0ebee8-a9f8-4a45-b410-175275871c15",
   "metadata": {},
   "source": [
    "# Parcial 1"
   ]
  },
  {
   "cell_type": "markdown",
   "id": "acab5ead-8128-4158-bf87-38d3652d50f7",
   "metadata": {},
   "source": [
    "¡El mejor celular para mamá!\n",
    "Mamá cumple años en unos días y aún no le he comprado el regalo. Ella quiere cambiar\n",
    "su celular desde hace un tiempo por lo que quizás ese sea el mejor regalo que le podría\n",
    "dar. Al ingresar a una plataforma de comercio electrónico he podido descargar la lista de\n",
    "más de 900 celulares publicados. Quisiera aplicar los conocimientos que he adquirido en\n",
    "mi curso de ciencia de datos para escoger la mejor opción para ella.\n",
    "\n",
    "Mamá no es muy tecnológica por lo que no hay necesidad de regalarle un celular de gama\n",
    "alta. Probablemente un celular de máximo $1.200.000 sea más que suficiente, aunque si\n",
    "lo puedo pagar a cuotas mucho mejor. Además de que las características del celular\n",
    "como la marca, el color, el tamaño de la pantalla, entre otras, sean las ideales para ella,\n",
    "siempre me gusta revisar que el vendedor tenga buena reputación (ojalá que sea una\n",
    "tienda oficial), que ofrezca garantía de al menos 6 meses y que el envío sea gratis. Su\n",
    "cumpleaños es muy pronto así que lo mejor es que el vendedor esté en los alrededores\n",
    "de Bogotá para que el envío sea rápido. Para propósitos del ejercicio, lo anterior no debe\n",
    "considerarse como restricciones estrictas sino más bien como características o\n",
    "condiciones de compra deseadas.\n",
    "\n",
    "Dentro de lo que logré descargar cuento con los siguientes conjuntos de datos: (1) la lista\n",
    "de más de 900 celulares publicados a la fecha en la plataforma, (2) todo el detalle de cada\n",
    "uno de los celulares de esta lista, y (3) la información básica de los diferentes vendedores"
   ]
  },
  {
   "cell_type": "markdown",
   "id": "6cbe4da0-b9a7-4736-9705-3ec458872db8",
   "metadata": {},
   "source": [
    "## 1"
   ]
  },
  {
   "cell_type": "markdown",
   "id": "9fd3ddfb-a3df-4194-8d49-1eb7e86c0d88",
   "metadata": {},
   "source": [
    "### a. Reporte de calidad"
   ]
  },
  {
   "cell_type": "markdown",
   "id": "6d40149e-2e36-41f2-95ae-1a63caa3644d",
   "metadata": {},
   "source": [
    "### b. Diagrama de bloques"
   ]
  },
  {
   "cell_type": "markdown",
   "id": "c2a48184-ef2f-4332-a11e-2029ce293535",
   "metadata": {},
   "source": [
    "## 2"
   ]
  },
  {
   "cell_type": "markdown",
   "id": "6f4a0c32-548b-4df7-b29a-495a0e40614f",
   "metadata": {},
   "source": [
    "### a. Análisis exploratorio de las variables relevantes"
   ]
  },
  {
   "cell_type": "markdown",
   "id": "34337676-9c2c-4f4f-96dd-eb06d9fe60f2",
   "metadata": {},
   "source": [
    "#### I. Análisis univariado"
   ]
  },
  {
   "cell_type": "markdown",
   "id": "66ef3651-4da2-4fb0-ab3f-30b5f3ebb080",
   "metadata": {},
   "source": [
    "#### II. Análisis bivariado"
   ]
  },
  {
   "cell_type": "markdown",
   "id": "6d501647-4dec-4145-be3b-eeec43dc7e8a",
   "metadata": {},
   "source": [
    "### b. ¿Qué tantas opciones (variabilidad) en función de la marca, precio u otros dos atributos relevantes hay en los celulares disponibles?"
   ]
  },
  {
   "cell_type": "markdown",
   "id": "b24c8dab-aaf1-4898-91c7-08c041961419",
   "metadata": {},
   "source": [
    "## 3"
   ]
  },
  {
   "cell_type": "markdown",
   "id": "32946644-5ce8-4535-9389-b9e7f69ea60d",
   "metadata": {},
   "source": [
    "#### a. Diseño de la estrategia\n",
    "\n",
    "#### *¿ Cuales considera que son los pasos más importantes para seleccionar el celular ideal?*"
   ]
  },
  {
   "cell_type": "markdown",
   "id": "d55f150b-aab4-4840-8632-511a0c7f6289",
   "metadata": {},
   "source": [
    "#### b. Proceso de selección con prueba estadística con significancia"
   ]
  },
  {
   "cell_type": "markdown",
   "id": "e60d192a-5389-4deb-85f9-60b12f66e504",
   "metadata": {},
   "source": [
    "#### c. Proceso para recomendar el celular que se debe comprar."
   ]
  }
 ],
 "metadata": {
  "kernelspec": {
   "display_name": "Python 3 (ipykernel)",
   "language": "python",
   "name": "python3"
  },
  "language_info": {
   "codemirror_mode": {
    "name": "ipython",
    "version": 3
   },
   "file_extension": ".py",
   "mimetype": "text/x-python",
   "name": "python",
   "nbconvert_exporter": "python",
   "pygments_lexer": "ipython3",
   "version": "3.12.6"
  }
 },
 "nbformat": 4,
 "nbformat_minor": 5
}
